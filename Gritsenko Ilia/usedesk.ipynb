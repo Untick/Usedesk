{
  "nbformat": 4,
  "nbformat_minor": 0,
  "metadata": {
    "colab": {
      "provenance": [],
      "collapsed_sections": [
        "v2P4t0AyXIEQ"
      ],
      "authorship_tag": "ABX9TyORunCj8qpKzIjGJDkkw1cL",
      "include_colab_link": true
    },
    "kernelspec": {
      "name": "python3",
      "display_name": "Python 3"
    },
    "language_info": {
      "name": "python"
    }
  },
  "cells": [
    {
      "cell_type": "markdown",
      "metadata": {
        "id": "view-in-github",
        "colab_type": "text"
      },
      "source": [
        "<a href=\"https://colab.research.google.com/github/Untick/Usedesk/blob/main/Gritsenko%20Ilia/usedesk.ipynb\" target=\"_parent\"><img src=\"https://colab.research.google.com/assets/colab-badge.svg\" alt=\"Open In Colab\"/></a>"
      ]
    },
    {
      "cell_type": "markdown",
      "source": [
        "# Подгрузка датасета"
      ],
      "metadata": {
        "id": "Wn5gUgaIPVvY"
      }
    },
    {
      "cell_type": "code",
      "source": [
        "import numpy as np\n",
        "import pandas as pd\n",
        "import matplotlib.pyplot as plt\n",
        "\n",
        "from tensorflow.keras.models import Sequential, Model\n",
        "from tensorflow.keras.optimizers import Adam\n",
        "from tensorflow.keras.layers import Dense\n",
        "from tensorflow.keras import utils\n",
        "\n",
        "from sklearn.preprocessing import MinMaxScaler\n",
        "from sklearn.model_selection import train_test_split\n",
        "\n",
        "%matplotlib inline"
      ],
      "metadata": {
        "id": "FYwYq_HOPss8"
      },
      "execution_count": 48,
      "outputs": []
    },
    {
      "cell_type": "code",
      "execution_count": 2,
      "metadata": {
        "id": "p_kXNQvwPJpr"
      },
      "outputs": [],
      "source": [
        "sheet_id = \"1cCjgzBbSsBnzEfRQ9NgIv_ZVjmRywoqV\"\n",
        "data = pd.read_csv(f\"https://docs.google.com/spreadsheets/d/{sheet_id}/export?format=csv\")"
      ]
    },
    {
      "cell_type": "code",
      "source": [
        "display(data[:3])"
      ],
      "metadata": {
        "colab": {
          "base_uri": "https://localhost:8080/",
          "height": 254
        },
        "id": "L_7IuVZKZB9I",
        "outputId": "2aeb1949-a018-4860-a9b1-c6563c360126"
      },
      "execution_count": 3,
      "outputs": [
        {
          "output_type": "display_data",
          "data": {
            "text/plain": [
              "   #NAME?  comp_id_new  месяц_desc        дата  рейтинг  всего  есть ответ  \\\n",
              "0  #NAME?            1           1  01.06.2023        2   3709        3442   \n",
              "1  #NAME?            1           2  01.05.2023        2   5573        5301   \n",
              "2  #NAME?            1           3  01.04.2023        2   6138        5983   \n",
              "\n",
              "   выполнен  закрыт   nps  ...  u-task  u_problem  u_incident  u_low  \\\n",
              "0       578    2466  1231  ...       0          0           0      0   \n",
              "1        36    4715  2004  ...       0          0           0      0   \n",
              "2         4    5496  2242  ...       0          0           0      0   \n",
              "\n",
              "   u_medium  u_urgent  u_extreme  licens  бз  бз_ст  \n",
              "0         2         0          0      13   1      4  \n",
              "1         5         0          0      13   1      4  \n",
              "2         1         0          0      13   1      4  \n",
              "\n",
              "[3 rows x 55 columns]"
            ],
            "text/html": [
              "\n",
              "\n",
              "  <div id=\"df-e04a7132-7611-4cf4-914d-850cd9b824b6\">\n",
              "    <div class=\"colab-df-container\">\n",
              "      <div>\n",
              "<style scoped>\n",
              "    .dataframe tbody tr th:only-of-type {\n",
              "        vertical-align: middle;\n",
              "    }\n",
              "\n",
              "    .dataframe tbody tr th {\n",
              "        vertical-align: top;\n",
              "    }\n",
              "\n",
              "    .dataframe thead th {\n",
              "        text-align: right;\n",
              "    }\n",
              "</style>\n",
              "<table border=\"1\" class=\"dataframe\">\n",
              "  <thead>\n",
              "    <tr style=\"text-align: right;\">\n",
              "      <th></th>\n",
              "      <th>#NAME?</th>\n",
              "      <th>comp_id_new</th>\n",
              "      <th>месяц_desc</th>\n",
              "      <th>дата</th>\n",
              "      <th>рейтинг</th>\n",
              "      <th>всего</th>\n",
              "      <th>есть ответ</th>\n",
              "      <th>выполнен</th>\n",
              "      <th>закрыт</th>\n",
              "      <th>nps</th>\n",
              "      <th>...</th>\n",
              "      <th>u-task</th>\n",
              "      <th>u_problem</th>\n",
              "      <th>u_incident</th>\n",
              "      <th>u_low</th>\n",
              "      <th>u_medium</th>\n",
              "      <th>u_urgent</th>\n",
              "      <th>u_extreme</th>\n",
              "      <th>licens</th>\n",
              "      <th>бз</th>\n",
              "      <th>бз_ст</th>\n",
              "    </tr>\n",
              "  </thead>\n",
              "  <tbody>\n",
              "    <tr>\n",
              "      <th>0</th>\n",
              "      <td>#NAME?</td>\n",
              "      <td>1</td>\n",
              "      <td>1</td>\n",
              "      <td>01.06.2023</td>\n",
              "      <td>2</td>\n",
              "      <td>3709</td>\n",
              "      <td>3442</td>\n",
              "      <td>578</td>\n",
              "      <td>2466</td>\n",
              "      <td>1231</td>\n",
              "      <td>...</td>\n",
              "      <td>0</td>\n",
              "      <td>0</td>\n",
              "      <td>0</td>\n",
              "      <td>0</td>\n",
              "      <td>2</td>\n",
              "      <td>0</td>\n",
              "      <td>0</td>\n",
              "      <td>13</td>\n",
              "      <td>1</td>\n",
              "      <td>4</td>\n",
              "    </tr>\n",
              "    <tr>\n",
              "      <th>1</th>\n",
              "      <td>#NAME?</td>\n",
              "      <td>1</td>\n",
              "      <td>2</td>\n",
              "      <td>01.05.2023</td>\n",
              "      <td>2</td>\n",
              "      <td>5573</td>\n",
              "      <td>5301</td>\n",
              "      <td>36</td>\n",
              "      <td>4715</td>\n",
              "      <td>2004</td>\n",
              "      <td>...</td>\n",
              "      <td>0</td>\n",
              "      <td>0</td>\n",
              "      <td>0</td>\n",
              "      <td>0</td>\n",
              "      <td>5</td>\n",
              "      <td>0</td>\n",
              "      <td>0</td>\n",
              "      <td>13</td>\n",
              "      <td>1</td>\n",
              "      <td>4</td>\n",
              "    </tr>\n",
              "    <tr>\n",
              "      <th>2</th>\n",
              "      <td>#NAME?</td>\n",
              "      <td>1</td>\n",
              "      <td>3</td>\n",
              "      <td>01.04.2023</td>\n",
              "      <td>2</td>\n",
              "      <td>6138</td>\n",
              "      <td>5983</td>\n",
              "      <td>4</td>\n",
              "      <td>5496</td>\n",
              "      <td>2242</td>\n",
              "      <td>...</td>\n",
              "      <td>0</td>\n",
              "      <td>0</td>\n",
              "      <td>0</td>\n",
              "      <td>0</td>\n",
              "      <td>1</td>\n",
              "      <td>0</td>\n",
              "      <td>0</td>\n",
              "      <td>13</td>\n",
              "      <td>1</td>\n",
              "      <td>4</td>\n",
              "    </tr>\n",
              "  </tbody>\n",
              "</table>\n",
              "<p>3 rows × 55 columns</p>\n",
              "</div>\n",
              "      <button class=\"colab-df-convert\" onclick=\"convertToInteractive('df-e04a7132-7611-4cf4-914d-850cd9b824b6')\"\n",
              "              title=\"Convert this dataframe to an interactive table.\"\n",
              "              style=\"display:none;\">\n",
              "\n",
              "  <svg xmlns=\"http://www.w3.org/2000/svg\" height=\"24px\"viewBox=\"0 0 24 24\"\n",
              "       width=\"24px\">\n",
              "    <path d=\"M0 0h24v24H0V0z\" fill=\"none\"/>\n",
              "    <path d=\"M18.56 5.44l.94 2.06.94-2.06 2.06-.94-2.06-.94-.94-2.06-.94 2.06-2.06.94zm-11 1L8.5 8.5l.94-2.06 2.06-.94-2.06-.94L8.5 2.5l-.94 2.06-2.06.94zm10 10l.94 2.06.94-2.06 2.06-.94-2.06-.94-.94-2.06-.94 2.06-2.06.94z\"/><path d=\"M17.41 7.96l-1.37-1.37c-.4-.4-.92-.59-1.43-.59-.52 0-1.04.2-1.43.59L10.3 9.45l-7.72 7.72c-.78.78-.78 2.05 0 2.83L4 21.41c.39.39.9.59 1.41.59.51 0 1.02-.2 1.41-.59l7.78-7.78 2.81-2.81c.8-.78.8-2.07 0-2.86zM5.41 20L4 18.59l7.72-7.72 1.47 1.35L5.41 20z\"/>\n",
              "  </svg>\n",
              "      </button>\n",
              "\n",
              "\n",
              "\n",
              "    <div id=\"df-87dde316-0fed-4812-811c-298662203844\">\n",
              "      <button class=\"colab-df-quickchart\" onclick=\"quickchart('df-87dde316-0fed-4812-811c-298662203844')\"\n",
              "              title=\"Suggest charts.\"\n",
              "              style=\"display:none;\">\n",
              "\n",
              "<svg xmlns=\"http://www.w3.org/2000/svg\" height=\"24px\"viewBox=\"0 0 24 24\"\n",
              "     width=\"24px\">\n",
              "    <g>\n",
              "        <path d=\"M19 3H5c-1.1 0-2 .9-2 2v14c0 1.1.9 2 2 2h14c1.1 0 2-.9 2-2V5c0-1.1-.9-2-2-2zM9 17H7v-7h2v7zm4 0h-2V7h2v10zm4 0h-2v-4h2v4z\"/>\n",
              "    </g>\n",
              "</svg>\n",
              "      </button>\n",
              "    </div>\n",
              "\n",
              "<style>\n",
              "  .colab-df-quickchart {\n",
              "    background-color: #E8F0FE;\n",
              "    border: none;\n",
              "    border-radius: 50%;\n",
              "    cursor: pointer;\n",
              "    display: none;\n",
              "    fill: #1967D2;\n",
              "    height: 32px;\n",
              "    padding: 0 0 0 0;\n",
              "    width: 32px;\n",
              "  }\n",
              "\n",
              "  .colab-df-quickchart:hover {\n",
              "    background-color: #E2EBFA;\n",
              "    box-shadow: 0px 1px 2px rgba(60, 64, 67, 0.3), 0px 1px 3px 1px rgba(60, 64, 67, 0.15);\n",
              "    fill: #174EA6;\n",
              "  }\n",
              "\n",
              "  [theme=dark] .colab-df-quickchart {\n",
              "    background-color: #3B4455;\n",
              "    fill: #D2E3FC;\n",
              "  }\n",
              "\n",
              "  [theme=dark] .colab-df-quickchart:hover {\n",
              "    background-color: #434B5C;\n",
              "    box-shadow: 0px 1px 3px 1px rgba(0, 0, 0, 0.15);\n",
              "    filter: drop-shadow(0px 1px 2px rgba(0, 0, 0, 0.3));\n",
              "    fill: #FFFFFF;\n",
              "  }\n",
              "</style>\n",
              "\n",
              "    <script>\n",
              "      async function quickchart(key) {\n",
              "        const containerElement = document.querySelector('#' + key);\n",
              "        const charts = await google.colab.kernel.invokeFunction(\n",
              "            'suggestCharts', [key], {});\n",
              "      }\n",
              "    </script>\n",
              "\n",
              "      <script>\n",
              "\n",
              "function displayQuickchartButton(domScope) {\n",
              "  let quickchartButtonEl =\n",
              "    domScope.querySelector('#df-87dde316-0fed-4812-811c-298662203844 button.colab-df-quickchart');\n",
              "  quickchartButtonEl.style.display =\n",
              "    google.colab.kernel.accessAllowed ? 'block' : 'none';\n",
              "}\n",
              "\n",
              "        displayQuickchartButton(document);\n",
              "      </script>\n",
              "      <style>\n",
              "    .colab-df-container {\n",
              "      display:flex;\n",
              "      flex-wrap:wrap;\n",
              "      gap: 12px;\n",
              "    }\n",
              "\n",
              "    .colab-df-convert {\n",
              "      background-color: #E8F0FE;\n",
              "      border: none;\n",
              "      border-radius: 50%;\n",
              "      cursor: pointer;\n",
              "      display: none;\n",
              "      fill: #1967D2;\n",
              "      height: 32px;\n",
              "      padding: 0 0 0 0;\n",
              "      width: 32px;\n",
              "    }\n",
              "\n",
              "    .colab-df-convert:hover {\n",
              "      background-color: #E2EBFA;\n",
              "      box-shadow: 0px 1px 2px rgba(60, 64, 67, 0.3), 0px 1px 3px 1px rgba(60, 64, 67, 0.15);\n",
              "      fill: #174EA6;\n",
              "    }\n",
              "\n",
              "    [theme=dark] .colab-df-convert {\n",
              "      background-color: #3B4455;\n",
              "      fill: #D2E3FC;\n",
              "    }\n",
              "\n",
              "    [theme=dark] .colab-df-convert:hover {\n",
              "      background-color: #434B5C;\n",
              "      box-shadow: 0px 1px 3px 1px rgba(0, 0, 0, 0.15);\n",
              "      filter: drop-shadow(0px 1px 2px rgba(0, 0, 0, 0.3));\n",
              "      fill: #FFFFFF;\n",
              "    }\n",
              "  </style>\n",
              "\n",
              "      <script>\n",
              "        const buttonEl =\n",
              "          document.querySelector('#df-e04a7132-7611-4cf4-914d-850cd9b824b6 button.colab-df-convert');\n",
              "        buttonEl.style.display =\n",
              "          google.colab.kernel.accessAllowed ? 'block' : 'none';\n",
              "\n",
              "        async function convertToInteractive(key) {\n",
              "          const element = document.querySelector('#df-e04a7132-7611-4cf4-914d-850cd9b824b6');\n",
              "          const dataTable =\n",
              "            await google.colab.kernel.invokeFunction('convertToInteractive',\n",
              "                                                     [key], {});\n",
              "          if (!dataTable) return;\n",
              "\n",
              "          const docLinkHtml = 'Like what you see? Visit the ' +\n",
              "            '<a target=\"_blank\" href=https://colab.research.google.com/notebooks/data_table.ipynb>data table notebook</a>'\n",
              "            + ' to learn more about interactive tables.';\n",
              "          element.innerHTML = '';\n",
              "          dataTable['output_type'] = 'display_data';\n",
              "          await google.colab.output.renderOutput(dataTable, element);\n",
              "          const docLink = document.createElement('div');\n",
              "          docLink.innerHTML = docLinkHtml;\n",
              "          element.appendChild(docLink);\n",
              "        }\n",
              "      </script>\n",
              "    </div>\n",
              "  </div>\n"
            ]
          },
          "metadata": {}
        }
      ]
    },
    {
      "cell_type": "markdown",
      "source": [
        "# Исследование"
      ],
      "metadata": {
        "id": "v2P4t0AyXIEQ"
      }
    },
    {
      "cell_type": "code",
      "source": [
        "# Количество непустых ячеек и тип данных в каждом столбце\n",
        "data.info()"
      ],
      "metadata": {
        "colab": {
          "base_uri": "https://localhost:8080/"
        },
        "id": "tWIpy2OKYHB0",
        "outputId": "93f4f891-cf68-4a94-8d73-a8175f334b39"
      },
      "execution_count": 4,
      "outputs": [
        {
          "output_type": "stream",
          "name": "stdout",
          "text": [
            "<class 'pandas.core.frame.DataFrame'>\n",
            "RangeIndex: 11779 entries, 0 to 11778\n",
            "Data columns (total 55 columns):\n",
            " #   Column                  Non-Null Count  Dtype \n",
            "---  ------                  --------------  ----- \n",
            " 0   #NAME?                  11779 non-null  object\n",
            " 1   comp_id_new             11779 non-null  int64 \n",
            " 2   месяц_desc              11779 non-null  int64 \n",
            " 3   дата                    11779 non-null  object\n",
            " 4   рейтинг                 11779 non-null  int64 \n",
            " 5   всего                   11779 non-null  int64 \n",
            " 6   есть ответ              11779 non-null  int64 \n",
            " 7   выполнен                11779 non-null  int64 \n",
            " 8   закрыт                  11779 non-null  int64 \n",
            " 9   nps                     11779 non-null  int64 \n",
            " 10  email                   11779 non-null  int64 \n",
            " 11  telephony               11779 non-null  int64 \n",
            " 12  api                     11779 non-null  int64 \n",
            " 13  usedesk_chat            11779 non-null  int64 \n",
            " 14  vk                      11779 non-null  int64 \n",
            " 15  telegram                11779 non-null  int64 \n",
            " 16  whatsapp                11779 non-null  int64 \n",
            " 17  fb_instagram            11779 non-null  int64 \n",
            " 18  chat                    11779 non-null  int64 \n",
            " 19  instagram               11779 non-null  int64 \n",
            " 20  facebook                11779 non-null  int64 \n",
            " 21  pact_telegram_personal  11779 non-null  int64 \n",
            " 22  twitter-mention         11779 non-null  int64 \n",
            " 23  chat2desk               11779 non-null  int64 \n",
            " 24  slack_thread            11779 non-null  int64 \n",
            " 25  twitter-direct          11779 non-null  int64 \n",
            " 26  question                11779 non-null  int64 \n",
            " 27  task                    11779 non-null  int64 \n",
            " 28  problem                 11779 non-null  int64 \n",
            " 29  incident                11779 non-null  int64 \n",
            " 30  low                     11779 non-null  int64 \n",
            " 31  medium                  11779 non-null  int64 \n",
            " 32  urgent                  11779 non-null  int64 \n",
            " 33  extreme                 11779 non-null  int64 \n",
            " 34  агент+                  11779 non-null  int64 \n",
            " 35  агент-                  11779 non-null  int64 \n",
            " 36  каналы+ all             11779 non-null  int64 \n",
            " 37  каналы+ p               11779 non-null  int64 \n",
            " 38  каналы- all             11779 non-null  int64 \n",
            " 39  каналы- p               11779 non-null  int64 \n",
            " 40  правила_cnt             11779 non-null  int64 \n",
            " 41  правила_dist            11779 non-null  int64 \n",
            " 42  nps_cnt                 11779 non-null  int64 \n",
            " 43  nps_avg                 11779 non-null  object\n",
            " 44  u_question              11779 non-null  int64 \n",
            " 45  u-task                  11779 non-null  int64 \n",
            " 46  u_problem               11779 non-null  int64 \n",
            " 47  u_incident              11779 non-null  int64 \n",
            " 48  u_low                   11779 non-null  int64 \n",
            " 49  u_medium                11779 non-null  int64 \n",
            " 50  u_urgent                11779 non-null  int64 \n",
            " 51  u_extreme               11779 non-null  int64 \n",
            " 52  licens                  11779 non-null  int64 \n",
            " 53  бз                      11779 non-null  int64 \n",
            " 54  бз_ст                   11779 non-null  int64 \n",
            "dtypes: int64(52), object(3)\n",
            "memory usage: 4.9+ MB\n"
          ]
        }
      ]
    },
    {
      "cell_type": "code",
      "source": [
        "# Количество строк и столбцов - (11779, 55)\n",
        "data.shape"
      ],
      "metadata": {
        "colab": {
          "base_uri": "https://localhost:8080/"
        },
        "id": "51beopBgXDfN",
        "outputId": "0cf1a487-7a80-4bc6-d83a-2b7f7ec9ea19"
      },
      "execution_count": 5,
      "outputs": [
        {
          "output_type": "execute_result",
          "data": {
            "text/plain": [
              "(11779, 55)"
            ]
          },
          "metadata": {},
          "execution_count": 5
        }
      ]
    },
    {
      "cell_type": "code",
      "source": [
        "# Количество ячеек - 647845\n",
        "data.size"
      ],
      "metadata": {
        "colab": {
          "base_uri": "https://localhost:8080/"
        },
        "id": "Jgx5XI78XOp3",
        "outputId": "2669577d-a176-4755-db7a-b38bd4bd5463"
      },
      "execution_count": 6,
      "outputs": [
        {
          "output_type": "execute_result",
          "data": {
            "text/plain": [
              "647845"
            ]
          },
          "metadata": {},
          "execution_count": 6
        }
      ]
    },
    {
      "cell_type": "code",
      "source": [
        "# Количество пустых записей в каждом столбце\n",
        "data.isna().sum()"
      ],
      "metadata": {
        "colab": {
          "base_uri": "https://localhost:8080/"
        },
        "id": "PTdGyjQeXOt8",
        "outputId": "6aef59f7-534a-4f06-f3b3-17238957086f"
      },
      "execution_count": 7,
      "outputs": [
        {
          "output_type": "execute_result",
          "data": {
            "text/plain": [
              "#NAME?                    0\n",
              "comp_id_new               0\n",
              "месяц_desc                0\n",
              "дата                      0\n",
              "рейтинг                   0\n",
              "всего                     0\n",
              "есть ответ                0\n",
              "выполнен                  0\n",
              "закрыт                    0\n",
              "nps                       0\n",
              "email                     0\n",
              "telephony                 0\n",
              "api                       0\n",
              "usedesk_chat              0\n",
              "vk                        0\n",
              "telegram                  0\n",
              "whatsapp                  0\n",
              "fb_instagram              0\n",
              "chat                      0\n",
              "instagram                 0\n",
              "facebook                  0\n",
              "pact_telegram_personal    0\n",
              "twitter-mention           0\n",
              "chat2desk                 0\n",
              "slack_thread              0\n",
              "twitter-direct            0\n",
              "question                  0\n",
              "task                      0\n",
              "problem                   0\n",
              "incident                  0\n",
              "low                       0\n",
              "medium                    0\n",
              "urgent                    0\n",
              "extreme                   0\n",
              "агент+                    0\n",
              "агент-                    0\n",
              "каналы+ all               0\n",
              "каналы+ p                 0\n",
              "каналы- all               0\n",
              "каналы- p                 0\n",
              "правила_cnt               0\n",
              "правила_dist              0\n",
              "nps_cnt                   0\n",
              "nps_avg                   0\n",
              "u_question                0\n",
              "u-task                    0\n",
              "u_problem                 0\n",
              "u_incident                0\n",
              "u_low                     0\n",
              "u_medium                  0\n",
              "u_urgent                  0\n",
              "u_extreme                 0\n",
              "licens                    0\n",
              "бз                        0\n",
              "бз_ст                     0\n",
              "dtype: int64"
            ]
          },
          "metadata": {},
          "execution_count": 7
        }
      ]
    },
    {
      "cell_type": "markdown",
      "source": [
        "# Корреляция"
      ],
      "metadata": {
        "id": "CIze0aS_aM1B"
      }
    },
    {
      "cell_type": "code",
      "source": [
        "# Поиск столбцов, которые больше всего коррелируют со столбцом \"рейтинг\" - показывающим статус сотрудничества компании\n",
        "\n",
        "data_corr = data.corr(method='kendall')['рейтинг']\n",
        "masked_data_corr = data_corr[data_corr > 0.15]\n",
        "display(masked_data_corr)"
      ],
      "metadata": {
        "colab": {
          "base_uri": "https://localhost:8080/",
          "height": 263
        },
        "id": "iHMafWkuaRXT",
        "outputId": "e9881aff-2dfe-4b18-ad38-085bf5b6fb22"
      },
      "execution_count": 26,
      "outputs": [
        {
          "output_type": "stream",
          "name": "stderr",
          "text": [
            "<ipython-input-26-950e1bb1836c>:3: FutureWarning: The default value of numeric_only in DataFrame.corr is deprecated. In a future version, it will default to False. Select only valid columns or specify the value of numeric_only to silence this warning.\n",
            "  data_corr = data.corr(method='kendall')['рейтинг']\n"
          ]
        },
        {
          "output_type": "display_data",
          "data": {
            "text/plain": [
              "рейтинг         1.000000\n",
              "всего           0.183741\n",
              "есть ответ      0.187318\n",
              "закрыт          0.189610\n",
              "telephony       0.157351\n",
              "question        0.174723\n",
              "medium          0.175541\n",
              "правила_cnt     0.160198\n",
              "правила_dist    0.152124\n",
              "licens          0.192411\n",
              "Name: рейтинг, dtype: float64"
            ]
          },
          "metadata": {}
        }
      ]
    },
    {
      "cell_type": "markdown",
      "source": [
        "**Вывод**: для построения НС целесообразно использовать 4 столбца: \"**licens**\", **всего**\", \"**есть ответ**\" и \"**закрыт**\""
      ],
      "metadata": {
        "id": "ZO70VpdtKJvp"
      }
    },
    {
      "cell_type": "markdown",
      "source": [
        "# Нормализация и параметризация\n"
      ],
      "metadata": {
        "id": "5-09RoBfDzEz"
      }
    },
    {
      "cell_type": "code",
      "source": [
        "high_cor_cols = {\n",
        "    'licens': data['licens'].to_numpy(),\n",
        "    'всего': data['всего'].to_numpy(),\n",
        "    'есть ответ': data['есть ответ'].to_numpy(),\n",
        "    'закрыт': data['закрыт'].to_numpy(),\n",
        "}  # todo автоматизировать выбор нужных столбцов\n",
        "\n",
        "\n",
        "for k, v in high_cor_cols.items():\n",
        "  scaler = MinMaxScaler()\n",
        "  scaler.fit(v.reshape(-1, 1))\n",
        "  high_cor_cols[k] = scaler.transform(v.reshape(-1, 1))\n",
        "\n",
        "x_data = np.hstack(tuple(high_cor_cols.values()))"
      ],
      "metadata": {
        "id": "OfeHX2OED3RX"
      },
      "execution_count": 53,
      "outputs": []
    },
    {
      "cell_type": "code",
      "source": [
        "x_data.shape"
      ],
      "metadata": {
        "colab": {
          "base_uri": "https://localhost:8080/"
        },
        "id": "Pwcy_ksEYTGi",
        "outputId": "c8623889-bcd2-402a-be55-91c8b45d3cfd"
      },
      "execution_count": 56,
      "outputs": [
        {
          "output_type": "execute_result",
          "data": {
            "text/plain": [
              "(11779, 4)"
            ]
          },
          "metadata": {},
          "execution_count": 56
        }
      ]
    },
    {
      "cell_type": "code",
      "source": [
        "CLASS_COUNT = len(data['рейтинг'].unique())\n",
        "y_data = utils.to_categorical(data['рейтинг'], CLASS_COUNT)\n",
        "y_data"
      ],
      "metadata": {
        "colab": {
          "base_uri": "https://localhost:8080/"
        },
        "id": "C4gFNh3SP9qx",
        "outputId": "9298e180-f0da-4dfd-da0d-d24de18d21c6"
      },
      "execution_count": 44,
      "outputs": [
        {
          "output_type": "execute_result",
          "data": {
            "text/plain": [
              "array([[0., 0., 1., 0.],\n",
              "       [0., 0., 1., 0.],\n",
              "       [0., 0., 1., 0.],\n",
              "       ...,\n",
              "       [0., 1., 0., 0.],\n",
              "       [0., 1., 0., 0.],\n",
              "       [0., 1., 0., 0.]], dtype=float32)"
            ]
          },
          "metadata": {},
          "execution_count": 44
        }
      ]
    },
    {
      "cell_type": "code",
      "source": [
        "x_train, x_valid_test, y_train, y_valid_test = train_test_split(x_data, y_data, test_size = 0.2, random_state = 42)\n",
        "x_test, x_valid, y_test, y_valid = train_test_split(x_valid_test, y_valid_test, test_size = 0.5, random_state = 42)"
      ],
      "metadata": {
        "id": "2rRWtZnRVOES"
      },
      "execution_count": 45,
      "outputs": []
    },
    {
      "cell_type": "markdown",
      "source": [
        "# Построение НС"
      ],
      "metadata": {
        "id": "J6XsyTWpRr6N"
      }
    },
    {
      "cell_type": "code",
      "source": [
        "model = Sequential()\n",
        "\n",
        "model.add(Dense(100, input_dim=11779, activation='relu'))\n",
        "model.add(Dense(CLASS_COUNT, activation='softmax'))\n",
        "\n",
        "model.compile(\n",
        "    loss='categorical_crossentropy',\n",
        "    optimizer='adam',\n",
        "    metrics=['accuracy'],\n",
        ")"
      ],
      "metadata": {
        "id": "pTB14GfFSnhl"
      },
      "execution_count": 59,
      "outputs": []
    },
    {
      "cell_type": "code",
      "source": [
        "utils.plot_model(model, to_file='model_plot.png', show_shapes=True, show_layer_names=True)"
      ],
      "metadata": {
        "colab": {
          "base_uri": "https://localhost:8080/",
          "height": 312
        },
        "id": "8c5U6qw3Y4lW",
        "outputId": "998b8579-65b7-4e80-a152-2d71789cbc8f"
      },
      "execution_count": 61,
      "outputs": [
        {
          "output_type": "execute_result",
          "data": {
            "image/png": "[encoded data removed]",
            "text/plain": [
              "<IPython.core.display.Image object>"
            ]
          },
          "metadata": {},
          "execution_count": 61
        }
      ]
    },
    {
      "cell_type": "markdown",
      "source": [
        "# New Section"
      ],
      "metadata": {
        "id": "GchbrZv_ZB3Z"
      }
    },
    {
      "cell_type": "code",
      "source": [
        "history = model.fit(\n",
        "    x_train,\n",
        "    y_train,\n",
        "    validation_data = (x_valid, y_valid),\n",
        "    epochs = 10,\n",
        "    verbose = 1\n",
        "    )"
      ],
      "metadata": {
        "colab": {
          "base_uri": "https://localhost:8080/",
          "height": 720
        },
        "id": "4rfsIunmXM_C",
        "outputId": "0e4d45e6-c91b-426a-e960-b50aa2ab573d"
      },
      "execution_count": 62,
      "outputs": [
        {
          "output_type": "stream",
          "name": "stdout",
          "text": [
            "Epoch 1/10\n"
          ]
        },
        {
          "output_type": "error",
          "ename": "ValueError",
          "evalue": "ignored",
          "traceback": [
            "\u001b[0;31m---------------------------------------------------------------------------\u001b[0m",
            "\u001b[0;31mValueError\u001b[0m                                Traceback (most recent call last)",
            "\u001b[0;32m<ipython-input-62-db859049e30e>\u001b[0m in \u001b[0;36m<cell line: 1>\u001b[0;34m()\u001b[0m\n\u001b[0;32m----> 1\u001b[0;31m history = model.fit(\n\u001b[0m\u001b[1;32m      2\u001b[0m     \u001b[0mx_train\u001b[0m\u001b[0;34m,\u001b[0m\u001b[0;34m\u001b[0m\u001b[0;34m\u001b[0m\u001b[0m\n\u001b[1;32m      3\u001b[0m     \u001b[0my_train\u001b[0m\u001b[0;34m,\u001b[0m\u001b[0;34m\u001b[0m\u001b[0;34m\u001b[0m\u001b[0m\n\u001b[1;32m      4\u001b[0m     \u001b[0mvalidation_data\u001b[0m \u001b[0;34m=\u001b[0m \u001b[0;34m(\u001b[0m\u001b[0mx_valid\u001b[0m\u001b[0;34m,\u001b[0m \u001b[0my_valid\u001b[0m\u001b[0;34m)\u001b[0m\u001b[0;34m,\u001b[0m\u001b[0;34m\u001b[0m\u001b[0;34m\u001b[0m\u001b[0m\n\u001b[1;32m      5\u001b[0m     \u001b[0mepochs\u001b[0m \u001b[0;34m=\u001b[0m \u001b[0;36m10\u001b[0m\u001b[0;34m,\u001b[0m\u001b[0;34m\u001b[0m\u001b[0;34m\u001b[0m\u001b[0m\n",
            "\u001b[0;32m/usr/local/lib/python3.10/dist-packages/keras/utils/traceback_utils.py\u001b[0m in \u001b[0;36merror_handler\u001b[0;34m(*args, **kwargs)\u001b[0m\n\u001b[1;32m     68\u001b[0m             \u001b[0;31m# To get the full stack trace, call:\u001b[0m\u001b[0;34m\u001b[0m\u001b[0;34m\u001b[0m\u001b[0m\n\u001b[1;32m     69\u001b[0m             \u001b[0;31m# `tf.debugging.disable_traceback_filtering()`\u001b[0m\u001b[0;34m\u001b[0m\u001b[0;34m\u001b[0m\u001b[0m\n\u001b[0;32m---> 70\u001b[0;31m             \u001b[0;32mraise\u001b[0m \u001b[0me\u001b[0m\u001b[0;34m.\u001b[0m\u001b[0mwith_traceback\u001b[0m\u001b[0;34m(\u001b[0m\u001b[0mfiltered_tb\u001b[0m\u001b[0;34m)\u001b[0m \u001b[0;32mfrom\u001b[0m \u001b[0;32mNone\u001b[0m\u001b[0;34m\u001b[0m\u001b[0;34m\u001b[0m\u001b[0m\n\u001b[0m\u001b[1;32m     71\u001b[0m         \u001b[0;32mfinally\u001b[0m\u001b[0;34m:\u001b[0m\u001b[0;34m\u001b[0m\u001b[0;34m\u001b[0m\u001b[0m\n\u001b[1;32m     72\u001b[0m             \u001b[0;32mdel\u001b[0m \u001b[0mfiltered_tb\u001b[0m\u001b[0;34m\u001b[0m\u001b[0;34m\u001b[0m\u001b[0m\n",
            "\u001b[0;32m/usr/local/lib/python3.10/dist-packages/keras/engine/training.py\u001b[0m in \u001b[0;36mtf__train_function\u001b[0;34m(iterator)\u001b[0m\n\u001b[1;32m     13\u001b[0m                 \u001b[0;32mtry\u001b[0m\u001b[0;34m:\u001b[0m\u001b[0;34m\u001b[0m\u001b[0;34m\u001b[0m\u001b[0m\n\u001b[1;32m     14\u001b[0m                     \u001b[0mdo_return\u001b[0m \u001b[0;34m=\u001b[0m \u001b[0;32mTrue\u001b[0m\u001b[0;34m\u001b[0m\u001b[0;34m\u001b[0m\u001b[0m\n\u001b[0;32m---> 15\u001b[0;31m                     \u001b[0mretval_\u001b[0m \u001b[0;34m=\u001b[0m \u001b[0mag__\u001b[0m\u001b[0;34m.\u001b[0m\u001b[0mconverted_call\u001b[0m\u001b[0;34m(\u001b[0m\u001b[0mag__\u001b[0m\u001b[0;34m.\u001b[0m\u001b[0mld\u001b[0m\u001b[0;34m(\u001b[0m\u001b[0mstep_function\u001b[0m\u001b[0;34m)\u001b[0m\u001b[0;34m,\u001b[0m \u001b[0;34m(\u001b[0m\u001b[0mag__\u001b[0m\u001b[0;34m.\u001b[0m\u001b[0mld\u001b[0m\u001b[0;34m(\u001b[0m\u001b[0mself\u001b[0m\u001b[0;34m)\u001b[0m\u001b[0;34m,\u001b[0m \u001b[0mag__\u001b[0m\u001b[0;34m.\u001b[0m\u001b[0mld\u001b[0m\u001b[0;34m(\u001b[0m\u001b[0miterator\u001b[0m\u001b[0;34m)\u001b[0m\u001b[0;34m)\u001b[0m\u001b[0;34m,\u001b[0m \u001b[0;32mNone\u001b[0m\u001b[0;34m,\u001b[0m \u001b[0mfscope\u001b[0m\u001b[0;34m)\u001b[0m\u001b[0;34m\u001b[0m\u001b[0;34m\u001b[0m\u001b[0m\n\u001b[0m\u001b[1;32m     16\u001b[0m                 \u001b[0;32mexcept\u001b[0m\u001b[0;34m:\u001b[0m\u001b[0;34m\u001b[0m\u001b[0;34m\u001b[0m\u001b[0m\n\u001b[1;32m     17\u001b[0m                     \u001b[0mdo_return\u001b[0m \u001b[0;34m=\u001b[0m \u001b[0;32mFalse\u001b[0m\u001b[0;34m\u001b[0m\u001b[0;34m\u001b[0m\u001b[0m\n",
            "\u001b[0;31mValueError\u001b[0m: in user code:\n\n    File \"/usr/local/lib/python3.10/dist-packages/keras/engine/training.py\", line 1284, in train_function  *\n        return step_function(self, iterator)\n    File \"/usr/local/lib/python3.10/dist-packages/keras/engine/training.py\", line 1268, in step_function  **\n        outputs = model.distribute_strategy.run(run_step, args=(data,))\n    File \"/usr/local/lib/python3.10/dist-packages/keras/engine/training.py\", line 1249, in run_step  **\n        outputs = model.train_step(data)\n    File \"/usr/local/lib/python3.10/dist-packages/keras/engine/training.py\", line 1050, in train_step\n        y_pred = self(x, training=True)\n    File \"/usr/local/lib/python3.10/dist-packages/keras/utils/traceback_utils.py\", line 70, in error_handler\n        raise e.with_traceback(filtered_tb) from None\n    File \"/usr/local/lib/python3.10/dist-packages/keras/engine/input_spec.py\", line 298, in assert_input_compatibility\n        raise ValueError(\n\n    ValueError: Input 0 of layer \"sequential_3\" is incompatible with the layer: expected shape=(None, 11779), found shape=(None, 4)\n"
          ]
        }
      ]
    }
  ]
}